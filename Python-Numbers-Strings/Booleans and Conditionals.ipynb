{
 "cells": [
  {
   "cell_type": "code",
   "execution_count": 1,
   "metadata": {},
   "outputs": [
    {
     "name": "stdout",
     "output_type": "stream",
     "text": [
      "True\n",
      "<class 'bool'>\n"
     ]
    }
   ],
   "source": [
    "x = True # x is variable which is assigned a boolean value true\n",
    "print(x) # note the use of print() function;It is used for printing in python, here it prints the value of x\n",
    "print(type(x)) # note the use function type() which renders the type of the variable"
   ]
  },
  {
   "cell_type": "code",
   "execution_count": 5,
   "metadata": {},
   "outputs": [
    {
     "name": "stdout",
     "output_type": "stream",
     "text": [
      "Can a 19-year-old cast vote? True\n",
      "Can a 45-year-old cast vote? True\n",
      "Can a 5-year-old cast vote? False\n"
     ]
    }
   ],
   "source": [
    "def eligible_for_vote(age):\n",
    "     \"\"\"A simple function which tells whether a person is eligible for voting or not\"\"\"\n",
    "    # The Indian Constitution says you must \"have attained to the Age of Eighteen Years and above\"\n",
    "     return age >= 18\n",
    "print(\"Can a 19-year-old cast vote?\", eligible_for_vote(19))\n",
    "print(\"Can a 45-year-old cast vote?\", eligible_for_vote(45))\n",
    "print(\"Can a 5-year-old cast vote?\", eligible_for_vote(5))\n",
    "    "
   ]
  },
  {
   "cell_type": "code",
   "execution_count": 6,
   "metadata": {},
   "outputs": [
    {
     "data": {
      "text/plain": [
       "True"
      ]
     },
     "execution_count": 6,
     "metadata": {},
     "output_type": "execute_result"
    }
   ],
   "source": [
    "3.0 == 3 # Use of relational operator == ,which equates the the LHS and RHS"
   ]
  },
  {
   "cell_type": "code",
   "execution_count": 7,
   "metadata": {},
   "outputs": [
    {
     "name": "stdout",
     "output_type": "stream",
     "text": [
      "Is 100 odd? False\n",
      "Is -1 odd? True\n"
     ]
    }
   ],
   "source": [
    "def is_odd(n):\n",
    "    \"\"\"A function which returns true if the number is odd and false if number \n",
    "        is even \n",
    "    \"\"\"\n",
    "    return (n % 2) == 1\n",
    "\n",
    "print(\"Is 100 odd?\", is_odd(100))\n",
    "print(\"Is -1 odd?\", is_odd(-1))"
   ]
  },
  {
   "cell_type": "code",
   "execution_count": 8,
   "metadata": {},
   "outputs": [
    {
     "data": {
      "text/plain": [
       "True"
      ]
     },
     "execution_count": 8,
     "metadata": {},
     "output_type": "execute_result"
    }
   ],
   "source": [
    "True or True and False # Any Guesses!!! Hint: Precedence of operators"
   ]
  },
  {
   "cell_type": "code",
   "execution_count": 10,
   "metadata": {},
   "outputs": [
    {
     "name": "stdout",
     "output_type": "stream",
     "text": [
      "0 is zero\n",
      "-15 is negative\n",
      "90 is positive\n"
     ]
    }
   ],
   "source": [
    "def check_number(x):\n",
    "    \"\"\"A function to check whether a number is zero,positive or negative\"\"\"\n",
    "    if x == 0:\n",
    "        print(x, \"is zero\")\n",
    "    elif x > 0:\n",
    "        print(x, \"is positive\")\n",
    "    elif x < 0:\n",
    "        print(x, \"is negative\")\n",
    "    else:\n",
    "        print(x, \"is unlike anything I've ever seen...\")\n",
    "\n",
    "check_number(0)\n",
    "check_number(-15)\n",
    "check_number(90)"
   ]
  },
  {
   "cell_type": "code",
   "execution_count": 16,
   "metadata": {},
   "outputs": [
    {
     "name": "stdout",
     "output_type": "stream",
     "text": [
      "1 is not divisible by 2\n",
      "0 is divisible by 2\n",
      "0 when multiplied by 2 is 0\n",
      "-2 is divisible by 2\n",
      "-2 when multiplied by 2 is -4\n"
     ]
    }
   ],
   "source": [
    "def f(x):\n",
    "    \"\"\"A function to check whether a number is divisible by 2\"\"\"\n",
    "    if x%2== 0:\n",
    "        print(x,\"is divisible by 2\")\n",
    "        print(x,\"when multiplied by 2 is\", x*2)\n",
    "    else: \n",
    "        print(x,\"is not divisible by 2\")\n",
    "\n",
    "f(1)\n",
    "f(0)\n",
    "f(-2)"
   ]
  },
  {
   "cell_type": "code",
   "execution_count": 17,
   "metadata": {},
   "outputs": [
    {
     "name": "stdout",
     "output_type": "stream",
     "text": [
      "True\n",
      "False\n",
      "True\n",
      "False\n"
     ]
    }
   ],
   "source": [
    "print(bool(1)) # all numbers are treated as true, except 0\n",
    "print(bool(0))\n",
    "print(bool(\"asf\")) # all strings are treated as true, except the empty string \"\"\n",
    "print(bool(\"\"))\n",
    "# Generally empty sequences (strings, lists, and other types we've yet to see like lists and tuples)\n",
    "# are \"falsey\" and the rest are \"truthy\""
   ]
  },
  {
   "cell_type": "code",
   "execution_count": 26,
   "metadata": {},
   "outputs": [
    {
     "name": "stdout",
     "output_type": "stream",
     "text": [
      "Hello World\n",
      "Hi Buddy!!\n"
     ]
    }
   ],
   "source": [
    "#We can use non-boolean objects in if conditions and other places where a boolean would be expected. \n",
    "#Python will implicitly treat them as their corresponding boolean value:\n",
    "if 0:\n",
    "    print(0)\n",
    "if \"\":\n",
    "    print(\"Empty String\")\n",
    "if \" Hello World\":\n",
    "    print(\"Hello World\")\n",
    "if print(\"Hi Buddy!!\"):\n",
    "    if 1:\n",
    "        print(\"Ahoy Hello Namaste\")"
   ]
  },
  {
   "cell_type": "code",
   "execution_count": 27,
   "metadata": {},
   "outputs": [
    {
     "name": "stdout",
     "output_type": "stream",
     "text": [
      "You passed the quiz with a grade of 80\n",
      "You failed the quiz with a grade of 33\n"
     ]
    }
   ],
   "source": [
    "def test_message(grade):\n",
    "    if grade < 50:\n",
    "        outcome = 'failed'\n",
    "    else:\n",
    "        outcome = 'passed'\n",
    "    print('You', outcome, 'the quiz with a grade of', grade)\n",
    "    \n",
    "test_message(80)\n",
    "test_message(33)\n"
   ]
  },
  {
   "cell_type": "code",
   "execution_count": 28,
   "metadata": {},
   "outputs": [
    {
     "name": "stdout",
     "output_type": "stream",
     "text": [
      "You passed the quiz with a grade of 80\n",
      "You failed the quiz with a grade of 33\n"
     ]
    }
   ],
   "source": [
    "def test_message(grade):\n",
    "    \"\"\" Implementing single lined conditional operation\"\"\"\n",
    "    outcome = 'failed' if grade < 50 else 'passed'\n",
    "    print('You', outcome, 'the quiz with a grade of', grade)\n",
    "test_message(80)\n",
    "test_message(33) "
   ]
  },
  {
   "cell_type": "code",
   "execution_count": null,
   "metadata": {},
   "outputs": [],
   "source": []
  }
 ],
 "metadata": {
  "kernelspec": {
   "display_name": "Python 3",
   "language": "python",
   "name": "python3"
  },
  "language_info": {
   "codemirror_mode": {
    "name": "ipython",
    "version": 3
   },
   "file_extension": ".py",
   "mimetype": "text/x-python",
   "name": "python",
   "nbconvert_exporter": "python",
   "pygments_lexer": "ipython3",
   "version": "3.6.7"
  }
 },
 "nbformat": 4,
 "nbformat_minor": 2
}
