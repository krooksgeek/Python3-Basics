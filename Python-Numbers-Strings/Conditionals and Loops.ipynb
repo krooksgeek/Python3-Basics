{
 "cells": [
  {
   "cell_type": "markdown",
   "metadata": {},
   "source": [
   "# Booleans and Operators"
   ]
  },
  {
   "cell_type": "code",
   "execution_count": 1,
   "metadata": {},
   "outputs": [
    {
     "name": "stdout",
     "output_type": "stream",
     "text": [
      "30\n",
      "-930\n",
      "True\n",
      "160\n",
      "False\n"
     ]
    }
   ],
   "source": [
    "# Declaring a Boolean variable\n",
    "myBool = True\n",
    "\n",
    "# Various types of operators\n",
    "\n",
    "result = 10 + 20    # Arithmetic operators\n",
    "diff = 10 - 20 * 47 # Arithmetic operators\n",
    "print(result)\n",
    "print(diff)\n",
    "\n",
    "var1 = 2 # Assignment operator\n",
    "var2 = 56\n",
    "\n",
    "myBool = var1 <= var2 # Relational operator\n",
    "print(myBool)\n",
    "\n",
    "bit = 40\n",
    "bitop = 40 << 2 # Bitwise Left Shift operator\n",
    "print(bitop)\n",
    "\n",
    "a = True\n",
    "b = False\n",
    "c = a and b # Logical operator\n",
    "print(c)"
   ]
  },
  {
   "cell_type": "markdown",
   "metadata": {},
   "source": [
    "# Conditionals"
   ]
  },
  {
   "cell_type": "code",
   "execution_count": 2,
   "metadata": {},
   "outputs": [
    {
     "name": "stdout",
     "output_type": "stream",
     "text": [
      "200\n"
     ]
    }
   ],
   "source": [
    "#if statement only runs the block if it true.\n",
    "a = 100\n",
    "b = 200\n",
    "\n",
    "if a > b:    # If statement\n",
    "    print(a)\n",
    "elif a < b:    # Else if statement\n",
    "    print(b)\n",
    "else:        # Else statement\n",
    "    print(a+b)"
   ]
  },
  {
   "cell_type": "markdown",
   "metadata": {},
   "source": [
    "# Loops "
   ]
  },
  {
   "cell_type": "code",
   "execution_count": 2,
   "metadata": {},
   "outputs": [
    {
     "name": "stdout",
     "output_type": "stream",
     "text": [
      "1\n",
      "3\n",
      "5\n",
      "7\n",
      "9\n"
     ]
    }
   ],
   "source": [
    "#Loop execute a block until a condition fails\n",
    "n = 9\n",
    "i = 0\n",
    "\n",
    "# While loop\n",
    "while i<n:\n",
    "    print(i+1)\n",
    "    i = i+2"
   ]
  },
  {
   "cell_type": "markdown",
   "metadata": {},
   "source": [
    "## For Loop"
   ]
  },
  {
   "cell_type": "code",
   "execution_count": 4,
   "metadata": {},
   "outputs": [
    {
     "name": "stdout",
     "output_type": "stream",
     "text": [
      "1\n",
      "6\n",
      "11\n",
      "1\n",
      "3\n",
      "4\n",
      "5\n",
      "6\n"
     ]
    }
   ],
   "source": [
    "# For loop\n",
    "for i in range(1,15,5):\n",
    "    print(i)\n",
    "\n",
    "# Loop control statements\n",
    "for i in range(1,20):\n",
    "    if i == 2:\n",
    "        continue\n",
    "    elif i==7:\n",
    "        break\n",
    "    print(i)\n"
   ]
  },
  {
   "cell_type": "markdown",
   "metadata": {},
   "source": [
    "<!--p> There is a way to iterate fast and more conveniently over strings, arrays etc. using a ‘for’ loop. Suppose we have a string s, and we wish to iterate over it. We simply write ‘for x in s:’ and continue with our loop statements. Note that we did not have to write the range function or specify the string size; we simply wrote the string name and that is enough for iterating over every element.     </p>\n",
    "\n",
    "</p--> "
   ]
  },
  {
   "cell_type": "code",
   "execution_count": 1,
   "metadata": {},
   "outputs": [
    {
     "name": "stdout",
     "output_type": "stream",
     "text": [
      "S\n",
      "h\n",
      "i\n",
      "v\n",
      "a\n",
      "m\n",
      " \n",
      "A\n",
      "g\n",
      "g\n",
      "a\n",
      "r\n",
      "w\n",
      "a\n",
      "l\n"
     ]
    }
   ],
   "source": [
    "# Fast iteration\n",
    "myStr = 'Shivam Aggarwal'\n",
    "for i in myStr:\n",
    "    print(i)"
   ]
  },
  {
   "cell_type": "markdown",
   "metadata": {},
   "source": [
    "# Functions"
   ]
  },
  {
   "cell_type": "code",
   "execution_count": 1,
   "metadata": {},
   "outputs": [
    {
     "name": "stdout",
     "output_type": "stream",
     "text": [
      "80\n"
     ]
    }
   ],
   "source": [
    "# Functions in Python\n",
    "#Functions are method that do \"computational stuff\" when you call them\n",
    "def product(x,y): \n",
    "    return x*y\n",
    "\n",
    "X = 20\n",
    "Y = 4\n",
    "print(product(X,Y))"
   ]
  },
  {
   "cell_type": "code",
   "execution_count": 7,
   "metadata": {},
   "outputs": [
    {
     "name": "stdout",
     "output_type": "stream",
     "text": [
      "20\n"
     ]
    }
   ],
   "source": [
    "def demo(a):\n",
    "    a += 1 \n",
    "a = 20\n",
    "demo(a)\n",
    "print(a)"
   ]
  },
  {
   "cell_type": "code",
   "execution_count": 8,
   "metadata": {},
   "outputs": [
    {
     "name": "stdout",
     "output_type": "stream",
     "text": [
      "30\n",
      "33\n",
      "34\n"
     ]
    }
   ],
   "source": [
    "def result(x=10,y=20):\n",
    "    a = x + y\n",
    "    return a\n",
    "\n",
    "print(result()) # All default arguments will be used to calculate results.\n",
    "print(result(13)) # 13 is the value we provide for x. Y will have default value 20.\n",
    "print(result(11,23)) # These are the values which will be used to compute the results."
   ]
  }
 ],
 "metadata": {
  "kernelspec": {
   "display_name": "Python 3",
   "language": "python",
   "name": "python3"
  },
  "language_info": {
   "codemirror_mode": {
    "name": "ipython",
    "version": 3
   },
   "file_extension": ".py",
   "mimetype": "text/x-python",
   "name": "python",
   "nbconvert_exporter": "python",
   "pygments_lexer": "ipython3",
   "version": "3.7.0"
  }
 },
 "nbformat": 4,
 "nbformat_minor": 2
}
