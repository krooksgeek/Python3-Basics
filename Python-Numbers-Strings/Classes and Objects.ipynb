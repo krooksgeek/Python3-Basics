{
 "cells": [
  {
   "cell_type": "code",
   "execution_count": null,
   "metadata": {},
   "outputs": [],
   "source": [
    "# A simple example class \n",
    "class Test:\n",
    "    # A sample method \n",
    "    def fun(self): \n",
    "        print(\"Hello\") \n",
    "\n",
    "# Driver code \n",
    "obj = Test() \n",
    "obj.fun() \n"
   ]
  },
  {
   "cell_type": "code",
   "execution_count": null,
   "metadata": {},
   "outputs": [],
   "source": [
    "# class Coordinate\n",
    "class coordinate(object): # to inherit a class, one can add class_name here \n",
    "    \n",
    "    def __init__(self,x,y):\n",
    "        assert type(x)==int and type(y)==int\n",
    "        self.x=x\n",
    "        self.y=y\n",
    "    \n",
    "    def distance(self,other):\n",
    "        x_dist=(self.x-other.x)**2\n",
    "        y_dist=(self.x-other.x)**2\n",
    "        dist=(x_dist+y_dist)**0.5\n",
    "        return dist\n",
    "    \n",
    "    def __str__(self):\n",
    "        return \"<\"+str(self.x)+\",\"+str(self.y)+\">\"\n",
    "\n",
    "c=coordinate(3,4)\n",
    "origin=coordinate(0,0)\n",
    "\n",
    "print(c.x) # output: 3\n",
    "\n",
    "print(c.y) # output: 4\n",
    "\n",
    "print(origin.x) # output: 0\n",
    "\n",
    "print(origin.y) # output: 0\n",
    "\n",
    "print(c.distance(origin)) # output: 4.242640687119285\n",
    "\n",
    "print(coordinate.__str__(c)) # output: <3,4>\n",
    "\n",
    "print(c) # output: <3,4>\n",
    "\n",
    "print(type(c)) # output: <class '__main__.coordinate'>\n",
    "\n",
    "print(type(coordinate)) # output: <class 'type'>\n",
    "\n",
    "print(type(int)) # output: <class 'type'>\n",
    "\n",
    "print(type(5)) # output: <class 'int'>\n",
    "\n",
    "print(isinstance(c,coordinate)) # output: True\n"
   ]
  },
  {
   "cell_type": "code",
   "execution_count": null,
   "metadata": {},
   "outputs": [],
   "source": [
    "# instance variables inside methods \n",
    "\n",
    "# Class for Computer Science Student \n",
    "class CSStudent:\n",
    "    # Class Variable \n",
    "    stream = 'cse'\n",
    "\n",
    "    # The init method or constructor \n",
    "    def __init__(self, roll): \n",
    "        # Instance Variable \n",
    "        self.roll = roll\t\t\t \n",
    "\n",
    "    # Adds an instance variable \n",
    "    def setAddress(self, address): \n",
    "        self.address = address \n",
    "    \n",
    "    # Retrieves instance variable\t \n",
    "    def getAddress(self):\t \n",
    "        return self.address \n",
    "\n",
    "# Driver Code \n",
    "a = CSStudent(101) \n",
    "a.setAddress(\"Noida, UP\") \n",
    "print(a.getAddress()) \n"
   ]
  }
 ],
 "metadata": {
  "kernelspec": {
   "display_name": "Python 3",
   "language": "python",
   "name": "python3"
  },
  "language_info": {
   "codemirror_mode": {
    "name": "ipython",
    "version": 3
   },
   "file_extension": ".py",
   "mimetype": "text/x-python",
   "name": "python",
   "nbconvert_exporter": "python",
   "pygments_lexer": "ipython3",
   "version": "3.6.7"
  }
 },
 "nbformat": 4,
 "nbformat_minor": 2
}
